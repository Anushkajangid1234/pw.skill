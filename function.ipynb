{
 "cells": [
  {
   "cell_type": "markdown",
   "id": "4de0219c",
   "metadata": {},
   "source": [
    "THEORY QUESTIONS:\n",
    "\n",
    "Ans1.\n",
    "\n",
    "In Python, functions and methods are both callable pieces of code, but they have some key differences based on how they are defined and used:\n",
    "\n",
    "1. Definition\n",
    "\n",
    ".Function: A function is a standalone block of code defined using the def keyword. It can be called independently of any object."
   ]
  },
  {
   "cell_type": "markdown",
   "id": "0e6f81b9",
   "metadata": {},
   "source": []
  },
  {
   "cell_type": "code",
   "execution_count": 1136,
   "id": "cdd48b8e",
   "metadata": {},
   "outputs": [],
   "source": [
    "def greet(name):\n",
    "    return f\"Hello, {name}!\""
   ]
  },
  {
   "cell_type": "markdown",
   "id": "ea7ddd99",
   "metadata": {},
   "source": [
    ".Method: A method is a function that is associated with a class or an object. It is defined within a class and is called on an instance (or the class itself for class methods)."
   ]
  },
  {
   "cell_type": "code",
   "execution_count": 1137,
   "id": "b34ba969",
   "metadata": {},
   "outputs": [],
   "source": [
    "class Greeter:\n",
    "    def greet(self, name):\n",
    "        return f\"Hello, {name}!\""
   ]
  },
  {
   "cell_type": "markdown",
   "id": "e3dbe0c1",
   "metadata": {},
   "source": [
    "2.Calling Context\n",
    "\n",
    ".Function: invoked directly,without requiring an intance or class."
   ]
  },
  {
   "cell_type": "code",
   "execution_count": 1138,
   "id": "b3340453",
   "metadata": {},
   "outputs": [
    {
     "name": "stdout",
     "output_type": "stream",
     "text": [
      "Hello, Alice!\n"
     ]
    }
   ],
   "source": [
    "print(greet(\"Alice\"))  # Output: Hello, Alice!"
   ]
  },
  {
   "cell_type": "markdown",
   "id": "eee13f54",
   "metadata": {},
   "source": [
    ".Method: Called on an instance (or class, in the case of class methods). The first parameter of an instance method is typically self, representing the instance, while for class methods it is cls."
   ]
  },
  {
   "cell_type": "code",
   "execution_count": 1139,
   "id": "ab966266",
   "metadata": {},
   "outputs": [
    {
     "name": "stdout",
     "output_type": "stream",
     "text": [
      "Hello, Alice!\n"
     ]
    }
   ],
   "source": [
    "greeter = Greeter()\n",
    "print(greeter.greet(\"Alice\"))  # Output: Hello, Alice!"
   ]
  },
  {
   "cell_type": "markdown",
   "id": "10318d5d",
   "metadata": {},
   "source": [
    "3. Binding\n",
    "\n",
    ".Function: Not bound to any object or class. It does not have implicit access to instance or class-specific data.\n",
    "\n",
    ".Method: Bound to an instance (or class). Instance methods have access to the object's attributes via self, and class methods can access the class-level data via cls.\n",
    "\n",
    "4. Usage Context\n",
    "\n",
    ".Function: Used for general-purpose operations that do not specifically depend on object state.\n",
    "\n",
    ".Method: Used when operations are tied to an object's state or behavior.\n",
    "\n",
    "\n",
    "Special Case: Static Methods\n",
    "\n",
    "Python also has static methods, defined with the @staticmethod decorator, which behave like regular functions but are included within a class for logical grouping. They do not take self or cls as the first argument:"
   ]
  },
  {
   "cell_type": "code",
   "execution_count": 1140,
   "id": "d17b50bc",
   "metadata": {},
   "outputs": [
    {
     "name": "stdout",
     "output_type": "stream",
     "text": [
      "5\n"
     ]
    }
   ],
   "source": [
    "class Utils:\n",
    "    @staticmethod\n",
    "    def add(a, b):\n",
    "        return a + b\n",
    "\n",
    "print(Utils.add(2, 3))  # Output: 5"
   ]
  },
  {
   "cell_type": "markdown",
   "id": "9f6f36e7",
   "metadata": {},
   "source": [
    "Ans 2.\n",
    "\n",
    "In Python, arguments and parameters are closely related concepts used in the context of functions. While they are often used interchangeably, they refer to distinct aspects of how data is passed to functions.\n",
    "\n",
    "1. Parameters\n",
    "\n",
    ".Definition: Parameters are the variables listed in a function's definition. They act as placeholders for the values that will be passed to the function when it is called.\n",
    "\n",
    ".Purpose: Parameters define the inputs that the function expects to receive."
   ]
  },
  {
   "cell_type": "code",
   "execution_count": 1141,
   "id": "357d6d29",
   "metadata": {},
   "outputs": [],
   "source": [
    "def greet(name):  # 'name' is a parameter\n",
    "    return f\"Hello, {name}!\""
   ]
  },
  {
   "cell_type": "markdown",
   "id": "4bbb0ceb",
   "metadata": {},
   "source": [
    "2. Arguments\n",
    "\n",
    ".Definition: Arguments are the actual values or data you pass to a function when you call it.\n",
    "\n",
    ".Purpose: Arguments provide the specific data that the function will use.\n",
    "\n",
    "Example:"
   ]
  },
  {
   "cell_type": "code",
   "execution_count": 1142,
   "id": "66eeb96f",
   "metadata": {},
   "outputs": [
    {
     "name": "stdout",
     "output_type": "stream",
     "text": [
      "Hello, Alice!\n"
     ]
    }
   ],
   "source": [
    "print(greet(\"Alice\"))  # \"Alice\" is an argument"
   ]
  },
  {
   "cell_type": "markdown",
   "id": "99b88e5e",
   "metadata": {},
   "source": [
    "Types of Function Arguments and Parameters\n",
    "\n",
    "Python supports several types of parameters and arguments, allowing flexible function definitions and calls:\n",
    "\n",
    "1. Positional Arguments\n",
    "\n",
    ".Passed in order, matching the position of parameters."
   ]
  },
  {
   "cell_type": "code",
   "execution_count": 1143,
   "id": "405248cb",
   "metadata": {},
   "outputs": [
    {
     "name": "stdout",
     "output_type": "stream",
     "text": [
      "5\n"
     ]
    }
   ],
   "source": [
    "def add(a, b):\n",
    "    return a + b\n",
    "\n",
    "print(add(2, 3))  # 2 and 3 are positional arguments"
   ]
  },
  {
   "cell_type": "markdown",
   "id": "d36c4938",
   "metadata": {},
   "source": [
    "2. Keyword Arguments\n",
    "\n",
    ".Explicitly specify which parameter the argument corresponds to, using the parameter name."
   ]
  },
  {
   "cell_type": "code",
   "execution_count": 1144,
   "id": "cd5b6509",
   "metadata": {},
   "outputs": [
    {
     "name": "stdout",
     "output_type": "stream",
     "text": [
      "Hi, Alice!\n"
     ]
    }
   ],
   "source": [
    "def greet(name, message):\n",
    "    return f\"{message}, {name}!\"\n",
    "\n",
    "print(greet(name=\"Alice\", message=\"Hi\"))  # Keyword arguments"
   ]
  },
  {
   "cell_type": "markdown",
   "id": "052b987a",
   "metadata": {},
   "source": [
    "3. Default Parameters\n",
    "\n",
    ".Assign default values to parameters. These are used if no argument is passed for them."
   ]
  },
  {
   "cell_type": "code",
   "execution_count": 1145,
   "id": "09b7de21",
   "metadata": {},
   "outputs": [
    {
     "name": "stdout",
     "output_type": "stream",
     "text": [
      "Hello, Alice!\n"
     ]
    }
   ],
   "source": [
    "def greet(name, message=\"Hello\"):\n",
    "    return f\"{message}, {name}!\"\n",
    "\n",
    "print(greet(\"Alice\"))  # Uses default message: \"Hello\""
   ]
  },
  {
   "cell_type": "markdown",
   "id": "98611266",
   "metadata": {},
   "source": [
    "4. Variable-Length Arguments\n",
    "\n",
    ".*args: Collects additional positional arguments as a tuple."
   ]
  },
  {
   "cell_type": "code",
   "execution_count": 1146,
   "id": "585ee604",
   "metadata": {},
   "outputs": [
    {
     "name": "stdout",
     "output_type": "stream",
     "text": [
      "10\n"
     ]
    }
   ],
   "source": [
    "def add(*numbers):\n",
    "    return sum(numbers)\n",
    "\n",
    "print(add(1, 2, 3, 4))  # Output: 10"
   ]
  },
  {
   "cell_type": "markdown",
   "id": "1e38b7e0",
   "metadata": {},
   "source": [
    ".**kwargs: Collects additional keyword arguments as a dictionary."
   ]
  },
  {
   "cell_type": "code",
   "execution_count": 1147,
   "id": "2d525d09",
   "metadata": {},
   "outputs": [
    {
     "name": "stdout",
     "output_type": "stream",
     "text": [
      "{'name': 'Alice', 'age': 25}\n"
     ]
    }
   ],
   "source": [
    "def info(**details):\n",
    "    return details\n",
    "\n",
    "print(info(name=\"Alice\", age=25))  # Output: {'name': 'Alice', 'age': 25}"
   ]
  },
  {
   "cell_type": "markdown",
   "id": "c0fbcf6a",
   "metadata": {},
   "source": [
    "Ans 3.\n",
    "\n",
    "In Python, functions can be defined and called in various ways to support diverse programming requirements. Here's an overview of the different ways to define and call functions:\n",
    "\n",
    "1. Basic Function Definition and Call\n",
    "\n",
    "Definition:\n",
    "\n",
    "A simple function is defined using the def keyword, followed by the function name and parentheses containing parameters (if any)."
   ]
  },
  {
   "cell_type": "code",
   "execution_count": 1148,
   "id": "86d48e87",
   "metadata": {},
   "outputs": [],
   "source": [
    "def greet(name):\n",
    "    return f\"Hello, {name}!\""
   ]
  },
  {
   "cell_type": "markdown",
   "id": "cf6d3f45",
   "metadata": {},
   "source": [
    "Call:"
   ]
  },
  {
   "cell_type": "code",
   "execution_count": 1149,
   "id": "6c4d2878",
   "metadata": {},
   "outputs": [
    {
     "name": "stdout",
     "output_type": "stream",
     "text": [
      "Hello, Alice!\n"
     ]
    }
   ],
   "source": [
    "print(greet(\"Alice\")) #output: Hello, Alice!"
   ]
  },
  {
   "cell_type": "markdown",
   "id": "5a121410",
   "metadata": {},
   "source": [
    "2. Function with Default Parameters\n",
    "\n",
    "Definition:\n",
    "\n",
    "Parameters can have default values, which are used if no argument is provided during the call."
   ]
  },
  {
   "cell_type": "code",
   "execution_count": 1150,
   "id": "1c1db7a8",
   "metadata": {},
   "outputs": [],
   "source": [
    "def greet(name, message=\"Hello\"):\n",
    "    return f\"{message}, {name}!\""
   ]
  },
  {
   "cell_type": "markdown",
   "id": "fe50760f",
   "metadata": {},
   "source": [
    "Call:"
   ]
  },
  {
   "cell_type": "code",
   "execution_count": 1151,
   "id": "d7821064",
   "metadata": {},
   "outputs": [
    {
     "name": "stdout",
     "output_type": "stream",
     "text": [
      "Hello, Alice!\n",
      "Hi, Bob!\n"
     ]
    }
   ],
   "source": [
    "print(greet(\"Alice\"))            # Uses default: \"Hello, Alice!\"\n",
    "print(greet(\"Bob\", \"Hi\"))        # Output: Hi, Bob!"
   ]
  },
  {
   "cell_type": "markdown",
   "id": "99673780",
   "metadata": {},
   "source": [
    "3. Function with Variable-Length Arguments\n",
    "\n",
    "Definition:\n",
    "\n",
    ".*args: Captures extra positional arguments as a tuple.\n",
    "\n",
    ".**kwargs: Captures extra keyword arguments as a dictionary."
   ]
  },
  {
   "cell_type": "code",
   "execution_count": 1152,
   "id": "33c5a6ba",
   "metadata": {},
   "outputs": [],
   "source": [
    "def describe(*args, **kwargs):\n",
    "    return f\"Positional: {args}, Keyword: {kwargs}\""
   ]
  },
  {
   "cell_type": "markdown",
   "id": "eaf5f726",
   "metadata": {},
   "source": [
    "Call:"
   ]
  },
  {
   "cell_type": "code",
   "execution_count": 1153,
   "id": "1eefbf4d",
   "metadata": {},
   "outputs": [
    {
     "name": "stdout",
     "output_type": "stream",
     "text": [
      "Positional: (1, 2, 3), Keyword: {'name': 'Alice', 'age': 25}\n"
     ]
    }
   ],
   "source": [
    "print(describe(1, 2, 3, name=\"Alice\", age=25))  \n",
    "# Output: Positional: (1, 2, 3), Keyword: {'name': 'Alice', 'age': 25}"
   ]
  },
  {
   "cell_type": "markdown",
   "id": "87bb8bd6",
   "metadata": {},
   "source": [
    "4. Lambda (Anonymous) Functions\n",
    "\n",
    "Definition:\n",
    "\n",
    "Lambda functions are single-expression functions defined using the lambda keyword. They are commonly used for short, throwaway functions."
   ]
  },
  {
   "cell_type": "code",
   "execution_count": 1154,
   "id": "9b807ad0",
   "metadata": {},
   "outputs": [],
   "source": [
    "add = lambda x, y: x + y"
   ]
  },
  {
   "cell_type": "markdown",
   "id": "3b0af6a3",
   "metadata": {},
   "source": [
    "Call:"
   ]
  },
  {
   "cell_type": "code",
   "execution_count": 1155,
   "id": "4d976893",
   "metadata": {},
   "outputs": [
    {
     "name": "stdout",
     "output_type": "stream",
     "text": [
      "5\n"
     ]
    }
   ],
   "source": [
    "print(add(2,3)) #output: 5"
   ]
  },
  {
   "cell_type": "markdown",
   "id": "79faeb15",
   "metadata": {},
   "source": [
    "5. Nested Functions\n",
    "\n",
    "Definition:\n",
    "\n",
    "Functions can be defined within other functions. This is useful for encapsulating functionality."
   ]
  },
  {
   "cell_type": "code",
   "execution_count": 1156,
   "id": "d0f1a315",
   "metadata": {},
   "outputs": [],
   "source": [
    "def outer_function(msg):\n",
    "    def inner_function():\n",
    "        return f\"Inner says: {msg}\"\n",
    "    return inner_function()"
   ]
  },
  {
   "cell_type": "markdown",
   "id": "544dc3de",
   "metadata": {},
   "source": [
    "Call:"
   ]
  },
  {
   "cell_type": "code",
   "execution_count": 1157,
   "id": "01be7312",
   "metadata": {},
   "outputs": [
    {
     "name": "stdout",
     "output_type": "stream",
     "text": [
      "Inner says: Hi there!\n"
     ]
    }
   ],
   "source": [
    "print(outer_function(\"Hi there!\"))  # Output: Inner says: Hi there!"
   ]
  },
  {
   "cell_type": "markdown",
   "id": "a17b94dd",
   "metadata": {},
   "source": [
    "6. Recursive Functions\n",
    "\n",
    "Definition:\n",
    "\n",
    "A function that calls itself to solve smaller sub-problems, typically used for tasks like factorial or Fibonacci series."
   ]
  },
  {
   "cell_type": "code",
   "execution_count": 1158,
   "id": "f5009e2d",
   "metadata": {},
   "outputs": [],
   "source": [
    "def factorial(n):\n",
    "    if n == 0:\n",
    "        return 1\n",
    "    return n * factorial(n - 1)"
   ]
  },
  {
   "cell_type": "markdown",
   "id": "39296c9a",
   "metadata": {},
   "source": [
    "Call:"
   ]
  },
  {
   "cell_type": "code",
   "execution_count": 1159,
   "id": "5e764efc",
   "metadata": {},
   "outputs": [
    {
     "name": "stdout",
     "output_type": "stream",
     "text": [
      "120\n"
     ]
    }
   ],
   "source": [
    "print(factorial(5))  #Output :120"
   ]
  },
  {
   "cell_type": "markdown",
   "id": "d7674d46",
   "metadata": {},
   "source": [
    "7. Function with Type Hints\n",
    "\n",
    "Definition:\n",
    "\n",
    "Type hints specify the expected input and output types for better readability and debugging."
   ]
  },
  {
   "cell_type": "code",
   "execution_count": 1160,
   "id": "fb8689ec",
   "metadata": {},
   "outputs": [],
   "source": [
    "def add(x: int, y: int) -> int:\n",
    "    return x + y"
   ]
  },
  {
   "cell_type": "markdown",
   "id": "fe902c97",
   "metadata": {},
   "source": [
    "Call:"
   ]
  },
  {
   "cell_type": "code",
   "execution_count": 1161,
   "id": "89f14585",
   "metadata": {},
   "outputs": [
    {
     "name": "stdout",
     "output_type": "stream",
     "text": [
      "5\n"
     ]
    }
   ],
   "source": [
    "print(add(2,3))  #Output: 5"
   ]
  },
  {
   "cell_type": "markdown",
   "id": "734c8199",
   "metadata": {},
   "source": [
    "Ans 8.\n",
    "\n",
    "A lambda function in Python is a small, anonymous function that can have any number of arguments but only one expression. It is defined using the lambda keyword. The expression is evaluated and returned when the function is called.\n",
    "\n",
    "lambda arguments: expression"
   ]
  },
  {
   "cell_type": "markdown",
   "id": "c38ce64e",
   "metadata": {},
   "source": [
    ".lambda – Keyword to define the function.\n",
    ".arguments – Input parameters.\n",
    ".expression – Single line of code that returns a value."
   ]
  },
  {
   "cell_type": "code",
   "execution_count": 1162,
   "id": "ca1b6816",
   "metadata": {},
   "outputs": [
    {
     "name": "stdout",
     "output_type": "stream",
     "text": [
      "8\n"
     ]
    }
   ],
   "source": [
    "add = lambda x, y: x + y\n",
    "print(add(5, 3))  # Output: 8"
   ]
  },
  {
   "cell_type": "code",
   "execution_count": 1163,
   "id": "f4a23221",
   "metadata": {},
   "outputs": [],
   "source": [
    "def add(x, y):\n",
    "    return x + y"
   ]
  },
  {
   "cell_type": "markdown",
   "id": "1fc075fc",
   "metadata": {},
   "source": [
    "When to Use Lambda Functions:\n",
    "\n",
    "1. Short, Simple Operations\n",
    "\n",
    "Lambda functions are used for small, throwaway functions where defining a full function is unnecessary.\n",
    "\n",
    "2. Higher-Order Functions\n",
    "\n",
    "Functions like map(), filter(), and reduce() often use lambdas."
   ]
  },
  {
   "cell_type": "code",
   "execution_count": 1164,
   "id": "216e8493",
   "metadata": {},
   "outputs": [
    {
     "name": "stdout",
     "output_type": "stream",
     "text": [
      "[1, 4, 9, 16]\n"
     ]
    }
   ],
   "source": [
    "numbers = [1, 2, 3, 4]\n",
    "squared = map(lambda x: x**2, numbers)\n",
    "print(list(squared))  "
   ]
  },
  {
   "cell_type": "markdown",
   "id": "82fbd129",
   "metadata": {},
   "source": [
    "3. Sorting with Custom Keys"
   ]
  },
  {
   "cell_type": "code",
   "execution_count": 1165,
   "id": "5f3f9604",
   "metadata": {},
   "outputs": [
    {
     "name": "stdout",
     "output_type": "stream",
     "text": [
      "['John', 'Alex', 'Emily']\n"
     ]
    }
   ],
   "source": [
    "names = ['John', 'Alex', 'Emily']\n",
    "names.sort(key=lambda x: len(x))\n",
    "print(names)  "
   ]
  },
  {
   "cell_type": "markdown",
   "id": "3b20bd90",
   "metadata": {},
   "source": [
    "4. Conditionally Selecting Elements"
   ]
  },
  {
   "cell_type": "code",
   "execution_count": 1166,
   "id": "47a4c96f",
   "metadata": {},
   "outputs": [
    {
     "name": "stdout",
     "output_type": "stream",
     "text": [
      "[0, 2, 4, 6, 8]\n"
     ]
    }
   ],
   "source": [
    "even_numbers = filter(lambda x: x % 2 == 0, range(10))\n",
    "print(list(even_numbers))  "
   ]
  },
  {
   "cell_type": "markdown",
   "id": "178f96af",
   "metadata": {},
   "source": [
    "5. Inline Callbacks\n",
    "Useful in GUI programming or asynchronous operations where small callbacks are required."
   ]
  },
  {
   "cell_type": "markdown",
   "id": "78cb70cd",
   "metadata": {},
   "source": [
    "Ans 9.\n",
    "\n",
    "The map() function in Python applies a given function to all items in an iterable (like a list or tuple) and returns an iterator (or list in Python 2) with the results. It allows for efficient, element-wise transformations without the need for explicit loops.\n",
    "\n",
    "map(function, iterable, ...)\n",
    "\n",
    ".function – A function that is applied to each element.\n",
    ".iterable – One or more iterables (like lists, tuples).\n",
    "If multiple iterables are passed, the function must accept that many arguments.\n",
    "\n",
    "Example 1: Basic Usage (Single Iterable)"
   ]
  },
  {
   "cell_type": "code",
   "execution_count": 1167,
   "id": "da5c7ccc",
   "metadata": {},
   "outputs": [
    {
     "name": "stdout",
     "output_type": "stream",
     "text": [
      "[1, 4, 9, 16]\n"
     ]
    }
   ],
   "source": [
    "numbers = [1, 2, 3, 4]\n",
    "squared = map(lambda x: x**2, numbers)\n",
    "print(list(squared))  "
   ]
  },
  {
   "cell_type": "markdown",
   "id": "7f25a4c1",
   "metadata": {},
   "source": [
    "Explanation:\n",
    "\n",
    ".lambda x: x**2 squares each element in the list.\n",
    ".map applies this to every item in numbers.\n",
    "\n",
    "Example 2 : Multiple Iterables"
   ]
  },
  {
   "cell_type": "code",
   "execution_count": 1168,
   "id": "fc309716",
   "metadata": {},
   "outputs": [
    {
     "name": "stdout",
     "output_type": "stream",
     "text": [
      "[5, 7, 9]\n"
     ]
    }
   ],
   "source": [
    "list1 = [1, 2, 3]\n",
    "list2 = [4, 5, 6]\n",
    "summed = map(lambda x, y: x + y, list1, list2)\n",
    "print(list(summed))  "
   ]
  },
  {
   "cell_type": "markdown",
   "id": "eff34a96",
   "metadata": {},
   "source": [
    "Explanation:\n",
    "\n",
    ".Each element of list1 is summed with the corresponding element of list2.\n",
    "\n",
    "Example 3: Using a Named Function"
   ]
  },
  {
   "cell_type": "code",
   "execution_count": 1169,
   "id": "72578212",
   "metadata": {},
   "outputs": [
    {
     "name": "stdout",
     "output_type": "stream",
     "text": [
      "['HELLO', 'WORLD']\n"
     ]
    }
   ],
   "source": [
    "def to_uppercase(s):\n",
    "    return s.upper()\n",
    "\n",
    "words = ['hello', 'world']\n",
    "uppercase_words = map(to_uppercase, words)\n",
    "print(list(uppercase_words))  "
   ]
  },
  {
   "cell_type": "markdown",
   "id": "5693ad09",
   "metadata": {},
   "source": [
    "Explanation:\n",
    "\n",
    ".map works with regular functions, not just lambdas."
   ]
  },
  {
   "cell_type": "markdown",
   "id": "eeec8422",
   "metadata": {},
   "source": [
    "Ans 10.\n",
    "\n",
    "map(), reduce(), and filter() are functional programming tools in Python that operate on iterables. They allow you to apply functions efficiently without explicit loops. Here's a breakdown of their differences and use cases:\n",
    "\n",
    "1. map() – Apply a Function to Each Item\n",
    ".Purpose: Transforms each element in an iterable by applying a function.\n",
    ".Returns: An iterator with the transformed elements.\n",
    ".Key Use Case: Element-wise transformations.\n",
    ".Syntax:\n",
    "\n",
    "map(function, iterable, ...)\n",
    "\n",
    "Example:"
   ]
  },
  {
   "cell_type": "code",
   "execution_count": 1170,
   "id": "5ee1e398",
   "metadata": {},
   "outputs": [
    {
     "name": "stdout",
     "output_type": "stream",
     "text": [
      "[1, 4, 9, 16]\n"
     ]
    }
   ],
   "source": [
    "numbers = [1, 2, 3, 4]\n",
    "squared = map(lambda x: x**2, numbers)\n",
    "print(list(squared))  "
   ]
  },
  {
   "cell_type": "markdown",
   "id": "42ecc447",
   "metadata": {},
   "source": [
    "2. filter() – Select Items Based on a Condition\n",
    ".Purpose: Filters elements from an iterable based on a condition (Boolean function).\n",
    ".Returns: An iterator with elements that satisfy the condition (where the function returns True).\n",
    ".Key Use Case: Extracting items that meet certain criteria.\n",
    ".Syntax:\n",
    "\n",
    "filter(function, iterable)\n",
    "\n",
    "Example:"
   ]
  },
  {
   "cell_type": "code",
   "execution_count": 1171,
   "id": "b508f64c",
   "metadata": {},
   "outputs": [
    {
     "name": "stdout",
     "output_type": "stream",
     "text": [
      "[2, 4]\n"
     ]
    }
   ],
   "source": [
    "numbers = [1, 2, 3, 4, 5]\n",
    "even_numbers = filter(lambda x: x % 2 == 0, numbers)\n",
    "print(list(even_numbers))  "
   ]
  },
  {
   "cell_type": "markdown",
   "id": "6a1bc5d7",
   "metadata": {},
   "source": [
    "3. reduce() – Cumulatively Apply a Function to Reduce to a Single Value\n",
    "\n",
    ".Purpose: Repeatedly applies a function to pairs of elements, reducing the iterable to a single cumulative value.\n",
    ".Returns: A single value.\n",
    ".Key Use Case: Aggregation (e.g., sum, product).\n",
    ".Syntax:\n",
    "\n",
    "from functools import reduce\n",
    "reduce(function, iterable, initial_value)"
   ]
  },
  {
   "cell_type": "code",
   "execution_count": 1172,
   "id": "9a435b01",
   "metadata": {},
   "outputs": [
    {
     "name": "stdout",
     "output_type": "stream",
     "text": [
      "24\n"
     ]
    }
   ],
   "source": [
    "from functools import reduce\n",
    "numbers = [1, 2, 3, 4]\n",
    "product = reduce(lambda x, y: x * y, numbers)\n",
    "print(product)  "
   ]
  },
  {
   "cell_type": "markdown",
   "id": "a9b5cfb6",
   "metadata": {},
   "source": [
    "When to Use Each:\n",
    "\n",
    ".map() – When you need to transform each item in a list.\n",
    ".filter() – When you need to select certain items based on a condition.\n",
    ".reduce() – When you need to combine elements into a single cumulative value.\n",
    "\n",
    "Example(All Together):"
   ]
  },
  {
   "cell_type": "code",
   "execution_count": 1173,
   "id": "a863f7a5",
   "metadata": {},
   "outputs": [
    {
     "name": "stdout",
     "output_type": "stream",
     "text": [
      "30\n"
     ]
    }
   ],
   "source": [
    "numbers = [1, 2, 3, 4, 5]\n",
    "\n",
    "# 1. Double each number (map)\n",
    "doubled = map(lambda x: x * 2, numbers)\n",
    "\n",
    "# 2. Filter even numbers (filter)\n",
    "even_numbers = filter(lambda x: x % 2 == 0, doubled)\n",
    "\n",
    "# 3. Sum the remaining numbers (reduce)\n",
    "total = reduce(lambda x, y: x + y, even_numbers)\n",
    "\n",
    "print(total)  "
   ]
  },
  {
   "cell_type": "markdown",
   "id": "21b61df4",
   "metadata": {},
   "source": [
    "Practical Questions:\n",
    "\n",
    "Ans 1."
   ]
  },
  {
   "cell_type": "code",
   "execution_count": 1174,
   "id": "cf6770d5",
   "metadata": {},
   "outputs": [
    {
     "name": "stdout",
     "output_type": "stream",
     "text": [
      "12\n"
     ]
    }
   ],
   "source": [
    "def sum_even_numbers(numbers):\n",
    "    return sum(filter(lambda x: x % 2 == 0, numbers))\n",
    "\n",
    "# Example usage\n",
    "numbers = [1, 2, 3, 4, 5, 6]\n",
    "result = sum_even_numbers(numbers)\n",
    "print(result)  "
   ]
  },
  {
   "cell_type": "markdown",
   "id": "1236d19f",
   "metadata": {},
   "source": [
    "How it Works:\n",
    "\n",
    ".filter() – Filters out even numbers by applying the condition x % 2 == 0.\n",
    ".sum() – Adds up the filtered even numbers.\n",
    "\n",
    "Alternative Approach (Using List Comprehension):"
   ]
  },
  {
   "cell_type": "code",
   "execution_count": 1175,
   "id": "537e45cb",
   "metadata": {},
   "outputs": [
    {
     "name": "stdout",
     "output_type": "stream",
     "text": [
      "12\n"
     ]
    }
   ],
   "source": [
    "def sum_even_numbers(numbers):\n",
    "    return sum(x for x in numbers if x % 2 == 0)\n",
    "\n",
    "# Example usage\n",
    "print(sum_even_numbers([1, 2, 3, 4, 5, 6]))  "
   ]
  },
  {
   "cell_type": "markdown",
   "id": "66065191",
   "metadata": {},
   "source": [
    "Ans 2."
   ]
  },
  {
   "cell_type": "code",
   "execution_count": 1176,
   "id": "39a1b780",
   "metadata": {},
   "outputs": [
    {
     "name": "stdout",
     "output_type": "stream",
     "text": [
      "olleh\n"
     ]
    }
   ],
   "source": [
    "def reverse_string(s):\n",
    "    return s[::-1]\n",
    "\n",
    "# Example usage\n",
    "text = \"hello\"\n",
    "result = reverse_string(text)\n",
    "print(result)  "
   ]
  },
  {
   "cell_type": "markdown",
   "id": "7182469f",
   "metadata": {},
   "source": [
    "How it Works:\n",
    "\n",
    ".s[::-1] – Uses Python slicing to reverse the string:\n",
    ".[:] – Selects the entire string.\n",
    ".[::-1] – Steps backward by -1, effectively reversing the string.\n",
    "\n",
    "Alternative Approach (Using a Loop):"
   ]
  },
  {
   "cell_type": "code",
   "execution_count": 1177,
   "id": "27330772",
   "metadata": {},
   "outputs": [
    {
     "name": "stdout",
     "output_type": "stream",
     "text": [
      "dlrow\n"
     ]
    }
   ],
   "source": [
    "def reverse_string(s):\n",
    "    reversed_str = ''\n",
    "    for char in s:\n",
    "        reversed_str = char + reversed_str\n",
    "    return reversed_str\n",
    "\n",
    "# Example usage\n",
    "print(reverse_string(\"world\"))  "
   ]
  },
  {
   "cell_type": "markdown",
   "id": "72326e39",
   "metadata": {},
   "source": [
    "Alternative Approach (Using reversed() and join()):"
   ]
  },
  {
   "cell_type": "code",
   "execution_count": 1178,
   "id": "22f75344",
   "metadata": {},
   "outputs": [
    {
     "name": "stdout",
     "output_type": "stream",
     "text": [
      "nohtyP\n"
     ]
    }
   ],
   "source": [
    "def reverse_string(s):\n",
    "    return ''.join(reversed(s))\n",
    "\n",
    "# Example usage\n",
    "print(reverse_string(\"Python\"))  "
   ]
  },
  {
   "cell_type": "markdown",
   "id": "174753fd",
   "metadata": {},
   "source": [
    "Ans 3."
   ]
  },
  {
   "cell_type": "code",
   "execution_count": 1179,
   "id": "430284b1",
   "metadata": {},
   "outputs": [
    {
     "name": "stdout",
     "output_type": "stream",
     "text": [
      "[1, 4, 9, 16, 25]\n"
     ]
    }
   ],
   "source": [
    "def square_numbers(numbers):\n",
    "    return [x**2 for x in numbers]\n",
    "\n",
    "# Example usage\n",
    "nums = [1, 2, 3, 4, 5]\n",
    "result = square_numbers(nums)\n",
    "print(result)  "
   ]
  },
  {
   "cell_type": "markdown",
   "id": "89ff26e6",
   "metadata": {},
   "source": [
    "How it Works:\n",
    "\n",
    ".List Comprehension – Squares each element (x**2) and creates a new list.\n",
    ".Efficient and Readable – This approach is concise and Pythonic.\n",
    "\n",
    "Alternative Approach (Using map()):"
   ]
  },
  {
   "cell_type": "code",
   "execution_count": 1180,
   "id": "be2394af",
   "metadata": {},
   "outputs": [
    {
     "name": "stdout",
     "output_type": "stream",
     "text": [
      "[1, 4, 9, 16, 25]\n"
     ]
    }
   ],
   "source": [
    "def square_numbers(numbers):\n",
    "    return list(map(lambda x: x**2, numbers))\n",
    "\n",
    "# Example usage\n",
    "print(square_numbers([1, 2, 3, 4, 5]))  "
   ]
  },
  {
   "cell_type": "markdown",
   "id": "ba2301a6",
   "metadata": {},
   "source": [
    "Ans 4."
   ]
  },
  {
   "cell_type": "code",
   "execution_count": 1181,
   "id": "83fe2f8e",
   "metadata": {},
   "outputs": [
    {
     "name": "stdout",
     "output_type": "stream",
     "text": [
      "[2, 3, 5, 7, 11, 13, 17, 19, 23, 29, 31, 37, 41, 43, 47, 53, 59, 61, 67, 71, 73, 79, 83, 89, 97, 101, 103, 107, 109, 113, 127, 131, 137, 139, 149, 151, 157, 163, 167, 173, 179, 181, 191, 193, 197, 199]\n"
     ]
    }
   ],
   "source": [
    "def is_prime(n):\n",
    "    if n <= 1:\n",
    "        return False\n",
    "    for i in range(2, int(n**0.5) + 1):\n",
    "        if n % i == 0:\n",
    "            return False\n",
    "    return True\n",
    "\n",
    "# Example usage: Check primes from 1 to 200\n",
    "prime_numbers = [n for n in range(1, 201) if is_prime(n)]\n",
    "print(prime_numbers)"
   ]
  },
  {
   "cell_type": "markdown",
   "id": "cc3ee9f9",
   "metadata": {},
   "source": [
    "How it Works:\n",
    "\n",
    ".n <= 1 – Numbers less than or equal to 1 are not prime.\n",
    ".Loop up to √n – A number is prime if no divisors exist up to its square root. \n",
    ".This reduces the number of iterations, making it efficient.\n",
    ".range(2, √n + 1) – Checks divisibility from 2 to the square root of n.\n",
    ".List Comprehension – Generates prime numbers between 1 and 200."
   ]
  },
  {
   "cell_type": "markdown",
   "id": "9b71365c",
   "metadata": {},
   "source": [
    "[2, 3, 5, 7, 11, 13, 17, 19, 23, 29, 31, 37, 41, 43, 47,\n",
    " 53, 59, 61, 67, 71, 73, 79, 83, 89, 97, 101, 103, 107,\n",
    " 109, 113, 127, 131, 137, 139, 149, 151, 157, 163, 167,\n",
    " 173, 179, 181, 191, 193, 197, 199]"
   ]
  },
  {
   "cell_type": "markdown",
   "id": "d87a93b6",
   "metadata": {},
   "source": [
    "Ans 5."
   ]
  },
  {
   "cell_type": "code",
   "execution_count": 1182,
   "id": "671cadbb",
   "metadata": {},
   "outputs": [
    {
     "name": "stdout",
     "output_type": "stream",
     "text": [
      "[0, 1, 1, 1, 2, 3, 5, 8, 13, 21]\n"
     ]
    }
   ],
   "source": [
    "class FibonacciIterator:\n",
    "    def __init__(self, n_terms):\n",
    "        self.n_terms = n_terms\n",
    "        self.current = 0\n",
    "        self.next = 1\n",
    "        self.count = 0\n",
    "\n",
    "    def __iter__(self):\n",
    "        return self\n",
    "\n",
    "    def __next__(self):\n",
    "        if self.count >= self.n_terms:\n",
    "            raise StopIteration\n",
    "        if self.count == 0:\n",
    "            self.count += 1\n",
    "            return 0\n",
    "        elif self.count == 1:\n",
    "            self.count += 1\n",
    "            return 1\n",
    "        else:\n",
    "            fib = self.current + self.next\n",
    "            self.current, self.next = self.next, fib\n",
    "            self.count += 1\n",
    "            return self.current\n",
    "\n",
    "# Example usage\n",
    "fib = FibonacciIterator(10)\n",
    "print(list(fib))  "
   ]
  },
  {
   "cell_type": "markdown",
   "id": "1eb49aa7",
   "metadata": {},
   "source": [
    "How it Works:\n",
    "\n",
    ".__init__ – Initializes the iterator with the number of terms (n_terms), starting values for Fibonacci (0 and 1), and a counter.\n",
    ".__iter__ – Returns the iterator object (self).\n",
    ".__next__ – Generates the next Fibonacci number:\n",
    ".Stops after n_terms by raising StopIteration.\n",
    ".Uses Fibonacci logic (current + next) to compute the next term.\n",
    "\n",
    "Example Output (10 terms):"
   ]
  },
  {
   "cell_type": "code",
   "execution_count": 1183,
   "id": "90795c88",
   "metadata": {},
   "outputs": [
    {
     "data": {
      "text/plain": [
       "[0, 1, 1, 2, 3, 5, 8, 13, 21, 34]"
      ]
     },
     "execution_count": 1183,
     "metadata": {},
     "output_type": "execute_result"
    }
   ],
   "source": [
    "[0, 1, 1, 2, 3, 5, 8, 13, 21, 34]"
   ]
  },
  {
   "cell_type": "markdown",
   "id": "784aba08",
   "metadata": {},
   "source": [
    "Ans 6."
   ]
  },
  {
   "cell_type": "code",
   "execution_count": 1184,
   "id": "23d77e37",
   "metadata": {},
   "outputs": [
    {
     "name": "stdout",
     "output_type": "stream",
     "text": [
      "1\n",
      "2\n",
      "4\n",
      "8\n",
      "16\n",
      "32\n"
     ]
    }
   ],
   "source": [
    "def powers_of_two(max_exponent):\n",
    "    for i in range(max_exponent + 1):\n",
    "        yield 2 ** i\n",
    "\n",
    "# Example usage\n",
    "for power in powers_of_two(5):\n",
    "    print(power)"
   ]
  },
  {
   "cell_type": "markdown",
   "id": "ad4affad",
   "metadata": {},
   "source": [
    "How it Works:\n",
    "\n",
    ".yield – Generates powers of 2 one at a time, pausing after each yield and resuming on the next call.\n",
    ".range(max_exponent + 1) – Iterates from 0 to the specified exponent, inclusive.\n",
    ".2 ** i – Computes 2 raised to the power of i.\n",
    "\n",
    "Example Output (up to 2^5):"
   ]
  },
  {
   "cell_type": "code",
   "execution_count": 1185,
   "id": "860a13e7",
   "metadata": {},
   "outputs": [
    {
     "data": {
      "text/plain": [
       "32"
      ]
     },
     "execution_count": 1185,
     "metadata": {},
     "output_type": "execute_result"
    }
   ],
   "source": [
    "1  # 2^0\n",
    "2  # 2^1\n",
    "4  # 2^2\n",
    "8  # 2^3\n",
    "16 # 2^4\n",
    "32 # 2^5"
   ]
  },
  {
   "cell_type": "markdown",
   "id": "4a76d4db",
   "metadata": {},
   "source": [
    "Ans 7.\n",
    "\n",
    "def read_file_line_by_line(file_path):\n",
    "    with open(file_path, 'r') as file:\n",
    "        for line in file:\n",
    "            yield line.strip()  # strip removes the newline character\n",
    "\n",
    "# Example usage\n",
    "file_path = 'sample.txt'  # Replace with your file path\n",
    "for line in read_file_line_by_line(file_path):\n",
    "    print(line)\n",
    "\n",
    "    How it Works:\n",
    "\n",
    ".with open(file_path, 'r') – Opens the file in read mode and ensures it is properly closed after reading.\n",
    ".for line in file – Iterates over each line in the file.\n",
    ".yield line.strip() – Yields each line, stripping the newline character at the end of each line using .strip().\n",
    "\n",
    ".Benefits of Using a Generator:\n",
    "\n",
    ".Memory Efficient – Since the generator yields one line at a time, it doesn't load the entire file into memory, making it efficient for large files.\n",
    ".Lazy Evaluation – The lines are read and processed on-demand, improving performance in situations where you don't need all the data at once.\n",
    "\n",
    "Example File Content (sample.txt):\n",
    "\n",
    "Hello, world!\n",
    "This is a sample file.\n",
    "It has multiple lines.\n",
    "\n",
    "Example Output:\n",
    "\n",
    "Hello, world!\n",
    "This is a sample file.\n",
    "It has multiple lines."
   ]
  },
  {
   "cell_type": "markdown",
   "id": "ee472203",
   "metadata": {},
   "source": [
    "Ans 8.\n",
    "\n",
    "You can use a lambda function with the sorted() function in Python to sort a list of tuples based on the second element of each tuple. Here's an example:"
   ]
  },
  {
   "cell_type": "code",
   "execution_count": 1186,
   "id": "84ed7c6a",
   "metadata": {},
   "outputs": [
    {
     "name": "stdout",
     "output_type": "stream",
     "text": [
      "[(1, 'apple'), (3, 'banana'), (2, 'cherry')]\n"
     ]
    }
   ],
   "source": [
    "# List of tuples\n",
    "tuples = [(1, 'apple'), (3, 'banana'), (2, 'cherry')]\n",
    "\n",
    "# Sort the list of tuples based on the second element (index 1) of each tuple\n",
    "sorted_tuples = sorted(tuples, key=lambda x: x[1])\n",
    "\n",
    "# Output the sorted list\n",
    "print(sorted_tuples)"
   ]
  },
  {
   "cell_type": "markdown",
   "id": "09a5912f",
   "metadata": {},
   "source": [
    "How it Works:\n",
    "\n",
    ".lambda x: x[1] – Defines an anonymous function that returns the second element (x[1]) of each tuple.\n",
    ".sorted(tuples, key=...) – The sorted() function sorts the list of tuples based on the value returned by the lambda function (i.e., the second element of each tuple).\n",
    "Example Output:"
   ]
  },
  {
   "cell_type": "code",
   "execution_count": 1187,
   "id": "c43b7fc2",
   "metadata": {},
   "outputs": [
    {
     "data": {
      "text/plain": [
       "[(3, 'banana'), (1, 'apple'), (2, 'cherry')]"
      ]
     },
     "execution_count": 1187,
     "metadata": {},
     "output_type": "execute_result"
    }
   ],
   "source": [
    "[(3, 'banana'), (1, 'apple'), (2, 'cherry')]"
   ]
  }
 ],
 "metadata": {
  "kernelspec": {
   "display_name": "Python 3",
   "language": "python",
   "name": "python3"
  },
  "language_info": {
   "codemirror_mode": {
    "name": "ipython",
    "version": 3
   },
   "file_extension": ".py",
   "mimetype": "text/x-python",
   "name": "python",
   "nbconvert_exporter": "python",
   "pygments_lexer": "ipython3",
   "version": "3.13.0"
  }
 },
 "nbformat": 4,
 "nbformat_minor": 5
}
